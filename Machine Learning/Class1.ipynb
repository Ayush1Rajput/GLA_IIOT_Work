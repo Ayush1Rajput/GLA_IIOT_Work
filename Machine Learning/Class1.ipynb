{
 "cells": [
  {
   "cell_type": "code",
   "execution_count": 84,
   "metadata": {},
   "outputs": [],
   "source": [
    "import numpy as np\n",
    "import pandas as pd"
   ]
  },
  {
   "cell_type": "code",
   "execution_count": 85,
   "metadata": {},
   "outputs": [
    {
     "name": "stdout",
     "output_type": "stream",
     "text": [
      "     A     B    C\n",
      "0  1.0   5.0  cat\n",
      "1  2.0   NaN  dog\n",
      "2  NaN   NaN  cat\n",
      "3  4.0   8.0  NaN\n",
      "4  5.0  10.0  dog\n"
     ]
    }
   ],
   "source": [
    "#Sample Dataset\n",
    "\n",
    "data = {\n",
    "    'A':[1,2,np.nan,4,5],\n",
    "    'B':[5,np.nan,np.nan,8,10],\n",
    "    'C':['cat','dog','cat',np.nan,'dog']\n",
    "}\n",
    "\n",
    "df = pd.DataFrame(data)\n",
    "print(df)"
   ]
  },
  {
   "cell_type": "code",
   "execution_count": 86,
   "metadata": {},
   "outputs": [
    {
     "name": "stdout",
     "output_type": "stream",
     "text": [
      "     A     B    C\n",
      "0  1.0   5.0  cat\n",
      "4  5.0  10.0  dog\n"
     ]
    }
   ],
   "source": [
    "#Removing row with missing values\n",
    "\n",
    "df_drop = df.dropna()\n",
    "print(df_drop)"
   ]
  },
  {
   "cell_type": "code",
   "execution_count": 87,
   "metadata": {},
   "outputs": [
    {
     "name": "stdout",
     "output_type": "stream",
     "text": [
      "Empty DataFrame\n",
      "Columns: []\n",
      "Index: [0, 1, 2, 3, 4]\n"
     ]
    }
   ],
   "source": [
    "#Removing Columns with missing values\n",
    "df_drop_col = df.dropna(axis=1)\n",
    "print(df_drop_col)"
   ]
  },
  {
   "cell_type": "code",
   "execution_count": 88,
   "metadata": {},
   "outputs": [
    {
     "name": "stdout",
     "output_type": "stream",
     "text": [
      "        A       B       C\n",
      "0     1.0     5.0     cat\n",
      "1     2.0  Fill..     dog\n",
      "2  Fill..  Fill..     cat\n",
      "3     4.0     8.0  Fill..\n",
      "4     5.0    10.0     dog\n"
     ]
    }
   ],
   "source": [
    "# fill with a constant value\n",
    "\n",
    "df_fill = df.fillna(\"Fill..\")\n",
    "print(df_fill)"
   ]
  },
  {
   "cell_type": "code",
   "execution_count": 89,
   "metadata": {},
   "outputs": [
    {
     "name": "stdout",
     "output_type": "stream",
     "text": [
      "     A          B    C\n",
      "0  1.0   5.000000  cat\n",
      "1  2.0   7.666667  dog\n",
      "2  3.0   7.666667  cat\n",
      "3  4.0   8.000000  NaN\n",
      "4  5.0  10.000000  dog\n"
     ]
    }
   ],
   "source": [
    "# Imputing with mean for numerical columns\n",
    "df['A']=df['A'].fillna(df['A'].mean())\n",
    "df['B']=df['B'].fillna(df['B'].mean())\n",
    "print(df)"
   ]
  },
  {
   "cell_type": "code",
   "execution_count": 90,
   "metadata": {},
   "outputs": [
    {
     "name": "stdout",
     "output_type": "stream",
     "text": [
      "     A          B    C\n",
      "0  1.0   5.000000  cat\n",
      "1  2.0   7.666667  dog\n",
      "2  3.0   7.666667  cat\n",
      "3  4.0   8.000000  cat\n",
      "4  5.0  10.000000  dog\n"
     ]
    }
   ],
   "source": [
    "# Imputing with mode for categorical columns\n",
    "df['C']=df['C'].fillna(df['C'].mode()[0])\n",
    "print(df)"
   ]
  },
  {
   "cell_type": "code",
   "execution_count": 91,
   "metadata": {},
   "outputs": [
    {
     "name": "stdout",
     "output_type": "stream",
     "text": [
      "     A          B    C\n",
      "0  1.0   5.000000  cat\n",
      "1  2.0   7.666667  dog\n",
      "2  3.0   7.666667  cat\n",
      "3  4.0   8.000000  cat\n",
      "4  5.0  10.000000  dog\n",
      "     A          B    C\n",
      "0  1.0   5.000000  cat\n",
      "1  2.0   7.666667  dog\n",
      "2  3.0   7.666667  cat\n",
      "3  4.0   8.000000  cat\n",
      "4  5.0  10.000000  dog\n"
     ]
    }
   ],
   "source": [
    "from sklearn.impute import SimpleImputer\n",
    "#Imputing numerical columns with mean \n",
    "numerical_imputer = SimpleImputer (strategy='mean') \n",
    "df[['A', 'B']] = numerical_imputer.fit_transform(df[['A', 'B']])\n",
    "\n",
    "print(df)\n",
    "\n",
    "# Imputing categorical columns with most frequent (mode)\n",
    "categorical_imputer = SimpleImputer(strategy='most_frequent')\n",
    "\n",
    "df[['C']] = categorical_imputer.fit_transform(df[['C']])\n",
    "print(df)"
   ]
  },
  {
   "cell_type": "code",
   "execution_count": 92,
   "metadata": {},
   "outputs": [
    {
     "data": {
      "text/html": [
       "<div>\n",
       "<style scoped>\n",
       "    .dataframe tbody tr th:only-of-type {\n",
       "        vertical-align: middle;\n",
       "    }\n",
       "\n",
       "    .dataframe tbody tr th {\n",
       "        vertical-align: top;\n",
       "    }\n",
       "\n",
       "    .dataframe thead th {\n",
       "        text-align: right;\n",
       "    }\n",
       "</style>\n",
       "<table border=\"1\" class=\"dataframe\">\n",
       "  <thead>\n",
       "    <tr style=\"text-align: right;\">\n",
       "      <th></th>\n",
       "      <th>A</th>\n",
       "      <th>B</th>\n",
       "    </tr>\n",
       "  </thead>\n",
       "  <tbody>\n",
       "    <tr>\n",
       "      <th>0</th>\n",
       "      <td>1.0</td>\n",
       "      <td>5.000000</td>\n",
       "    </tr>\n",
       "    <tr>\n",
       "      <th>1</th>\n",
       "      <td>2.0</td>\n",
       "      <td>7.666667</td>\n",
       "    </tr>\n",
       "    <tr>\n",
       "      <th>2</th>\n",
       "      <td>3.0</td>\n",
       "      <td>7.666667</td>\n",
       "    </tr>\n",
       "    <tr>\n",
       "      <th>3</th>\n",
       "      <td>4.0</td>\n",
       "      <td>8.000000</td>\n",
       "    </tr>\n",
       "    <tr>\n",
       "      <th>4</th>\n",
       "      <td>5.0</td>\n",
       "      <td>10.000000</td>\n",
       "    </tr>\n",
       "  </tbody>\n",
       "</table>\n",
       "</div>"
      ],
      "text/plain": [
       "     A          B\n",
       "0  1.0   5.000000\n",
       "1  2.0   7.666667\n",
       "2  3.0   7.666667\n",
       "3  4.0   8.000000\n",
       "4  5.0  10.000000"
      ]
     },
     "execution_count": 92,
     "metadata": {},
     "output_type": "execute_result"
    }
   ],
   "source": [
    "# Iterative Imputer\n",
    "from sklearn.experimental import enable_iterative_imputer\n",
    "from sklearn.impute import IterativeImputer\n",
    "iterative_imputer = IterativeImputer()\n",
    "df[['A','B']] = iterative_imputer.fit_transform(df[['A','B']])\n",
    "df[['A','B']]"
   ]
  },
  {
   "cell_type": "code",
   "execution_count": 93,
   "metadata": {},
   "outputs": [
    {
     "name": "stdout",
     "output_type": "stream",
     "text": [
      "   Feature1  Feature2\n",
      "0      0.00      0.00\n",
      "1      0.25      0.25\n",
      "2      0.50      0.50\n",
      "3      0.75      0.75\n",
      "4      1.00      1.00\n"
     ]
    }
   ],
   "source": [
    "from sklearn.preprocessing import MinMaxScaler\n",
    "data = {'Feature1' : [10,20,30,40,50], 'Feature2' : [100,200,300,400,500]}\n",
    "df = pd.DataFrame(data)\n",
    "\n",
    "#Normalization\n",
    "\n",
    "scaler = MinMaxScaler()\n",
    "df_normalized = pd.DataFrame(scaler.fit_transform(df), columns=df.columns)\n",
    "\n",
    "print(df_normalized)"
   ]
  },
  {
   "cell_type": "markdown",
   "metadata": {},
   "source": [
    "Standardization"
   ]
  },
  {
   "cell_type": "code",
   "execution_count": 94,
   "metadata": {},
   "outputs": [
    {
     "name": "stdout",
     "output_type": "stream",
     "text": [
      "   Feature1  Feature2\n",
      "0 -1.414214 -1.414214\n",
      "1 -0.707107 -0.707107\n",
      "2  0.000000  0.000000\n",
      "3  0.707107  0.707107\n",
      "4  1.414214  1.414214\n"
     ]
    }
   ],
   "source": [
    "from sklearn.preprocessing import StandardScaler\n",
    "\n",
    "# Sample Dataset\n",
    "data = {'Feature1' : [10,20,30,40,50], 'Feature2' : [100,200,300,400,500]}\n",
    "df = pd.DataFrame(data)\n",
    "\n",
    "#Standardization\n",
    "scaler = StandardScaler()\n",
    "df_Standardized = pd.DataFrame(scaler.fit_transform(df), columns=df.columns)\n",
    "\n",
    "print(df_Standardized)"
   ]
  },
  {
   "cell_type": "markdown",
   "metadata": {},
   "source": [
    "Data Splitting "
   ]
  },
  {
   "cell_type": "code",
   "execution_count": 95,
   "metadata": {},
   "outputs": [
    {
     "name": "stdout",
     "output_type": "stream",
     "text": [
      "Original Dataset\n",
      "   Feature1  Feature2  Target\n",
      "0        10       100       1\n",
      "1        20       200       0\n",
      "2        30       300       1\n",
      "3        40       400       0\n",
      "4        50       500       1\n"
     ]
    }
   ],
   "source": [
    "from sklearn.model_selection import train_test_split\n",
    "from sklearn.preprocessing import MinMaxScaler\n",
    "\n",
    "# Sample Dataset\n",
    "data = {\n",
    "    'Feature1' : [10,20,30,40,50], \n",
    "    'Feature2' : [100,200,300,400,500],\n",
    "    'Target' : [1,0,1,0,1]}\n",
    "\n",
    "df = pd.DataFrame(data)\n",
    "print(\"Original Dataset\")\n",
    "print(df)"
   ]
  },
  {
   "cell_type": "code",
   "execution_count": 96,
   "metadata": {},
   "outputs": [
    {
     "name": "stdout",
     "output_type": "stream",
     "text": [
      "Training Features:\n",
      "   Feature1  Feature2\n",
      "4        50       500\n",
      "2        30       300\n",
      "0        10       100\n",
      "3        40       400\n",
      "Test Features:\n",
      "   Feature1  Feature2\n",
      "1        20       200\n"
     ]
    }
   ],
   "source": [
    "#Splitting the dataset \n",
    "X=df.drop('Target', axis=1) #features \n",
    "y=df['Target'] #Target variable\n",
    "\n",
    "X_train,X_test,y_train,y_test= train_test_split(X, y, test_size=0.2, random_state=42)\n",
    "\n",
    "print(\"Training Features:\")\n",
    "print(X_train)\n",
    "print(\"Test Features:\")\n",
    "print(X_test)"
   ]
  }
 ],
 "metadata": {
  "kernelspec": {
   "display_name": "Python 3",
   "language": "python",
   "name": "python3"
  },
  "language_info": {
   "codemirror_mode": {
    "name": "ipython",
    "version": 3
   },
   "file_extension": ".py",
   "mimetype": "text/x-python",
   "name": "python",
   "nbconvert_exporter": "python",
   "pygments_lexer": "ipython3",
   "version": "3.10.7"
  }
 },
 "nbformat": 4,
 "nbformat_minor": 2
}
